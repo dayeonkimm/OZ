{
 "cells": [
  {
   "cell_type": "markdown",
   "metadata": {},
   "source": [
    "[문제]\n",
    "\n",
    "'Account' 클래스를 작성하세요. \n",
    "\n",
    "이 클래스는 소유자(owner)와 잔액(balance)을 속성으로 가지며, 잔액은 프라이빗 변수로 선언합니다. \n",
    "\n",
    "'deposit'와 'withdraw' 두 개의 메소드를 통해 잔액을 조작할 수 있도록 하세요. \n",
    "\n",
    "이 때, 잔액은 음수가 될 수 없도록 체크해야 합니다. 'Account' 객체를 생성하고,<br>\n",
    "입금 및 출금 작업을 시뮬레이션한 후, 최종 잔액을 출력하세요."
   ]
  },
  {
   "cell_type": "code",
   "execution_count": 4,
   "metadata": {},
   "outputs": [
    {
     "name": "stdout",
     "output_type": "stream",
     "text": [
      "홍파이님, 잔액은 3200원입니다\n",
      "홍파이님, 잔액은 2700원입니다\n",
      "입력하신 금액이 잔액보다 많습니다 현재 잔액은 2500원입니다\n",
      "김자바님, 잔액은 2200원입니다\n",
      "김자바님, 잔액은 3000원입니다\n"
     ]
    }
   ],
   "source": [
    "class Account:\n",
    "    def __init__(self,owner,balance):\n",
    "        self.owner = owner\n",
    "        self.balance = balance\n",
    "        \n",
    "    def deposit(self,d_money):\n",
    "        self.balance += d_money\n",
    "        print(f'{self.owner}님, 잔액은 {self.balance}원입니다')\n",
    "        \n",
    "    def withdraw(self,w_money):\n",
    "        if w_money > self.balance:\n",
    "            print(f'입력하신 금액이 잔액보다 많습니다 현재 잔액은 {self.balance}원입니다')\n",
    "            return\n",
    "        self.balance -= w_money\n",
    "        print(f'{self.owner}님, 잔액은 {self.balance}원입니다')\n",
    "        \n",
    "        \n",
    "acc_1 = Account(\"홍파이\",3000)\n",
    "acc_1.deposit(200)\n",
    "acc_1.withdraw(500)\n",
    "\n",
    "acc_2 = Account(\"김자바\",2500)\n",
    "acc_2.withdraw(3000)\n",
    "acc_2.withdraw(300)\n",
    "acc_2.deposit(800)\n",
    "        \n",
    "\n",
    "        "
   ]
  }
 ],
 "metadata": {
  "kernelspec": {
   "display_name": "condatest",
   "language": "python",
   "name": "condatest"
  },
  "language_info": {
   "codemirror_mode": {
    "name": "ipython",
    "version": 3
   },
   "file_extension": ".py",
   "mimetype": "text/x-python",
   "name": "python",
   "nbconvert_exporter": "python",
   "pygments_lexer": "ipython3",
   "version": "3.11.7"
  }
 },
 "nbformat": 4,
 "nbformat_minor": 2
}
