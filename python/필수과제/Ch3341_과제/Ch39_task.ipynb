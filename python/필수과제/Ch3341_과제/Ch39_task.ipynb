{
 "cells": [
  {
   "cell_type": "markdown",
   "metadata": {},
   "source": [
    "함수 실행 시간을 측정하는 데코레이터 timer_decorator를 작성하세요. \n",
    "\n",
    "임의의 함수가 실행되는 시간을 측정하여 \"함수 실행 시간: x.xx초\" 형태로 출력하세요."
   ]
  },
  {
   "cell_type": "code",
   "execution_count": 12,
   "metadata": {},
   "outputs": [
    {
     "name": "stdout",
     "output_type": "stream",
     "text": [
      "[3, 10, 105, -4]\n",
      "입력하신 숫자들 중 최소값은 -4입니다\n",
      "입력하신 숫자들 중 최대값은 105입니다\n",
      "함수 실행 시간: 12.56초\n"
     ]
    }
   ],
   "source": [
    "import time\n",
    "\n",
    "def timer_decorator(func):\n",
    "    def wrapper():\n",
    "        start_time = time.time()\n",
    "        func()\n",
    "        end_time = time.time()\n",
    "        print(f'함수 실행 시간: {end_time-start_time:.2f}초')\n",
    "    return wrapper\n",
    "\n",
    "@timer_decorator\n",
    "def min_max():\n",
    "    numbers = list(map(int,input(\"숫자들을 입력하세요:\").split(\",\")))\n",
    "    print(numbers)\n",
    "    print(f'입력하신 숫자들 중 최소값은 {min(numbers)}입니다')\n",
    "    print(f'입력하신 숫자들 중 최대값은 {max(numbers)}입니다')\n",
    "    \n",
    "min_max()\n",
    "    \n",
    "    "
   ]
  }
 ],
 "metadata": {
  "kernelspec": {
   "display_name": "condatest",
   "language": "python",
   "name": "condatest"
  },
  "language_info": {
   "codemirror_mode": {
    "name": "ipython",
    "version": 3
   },
   "file_extension": ".py",
   "mimetype": "text/x-python",
   "name": "python",
   "nbconvert_exporter": "python",
   "pygments_lexer": "ipython3",
   "version": "3.11.7"
  }
 },
 "nbformat": 4,
 "nbformat_minor": 2
}
