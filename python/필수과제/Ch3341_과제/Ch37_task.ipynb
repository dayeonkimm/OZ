{
 "cells": [
  {
   "cell_type": "markdown",
   "metadata": {},
   "source": [
    "datetime 모듈을 사용하여 현재 날짜와 시간을 출력하는 프로그램을 작성하세요. \n",
    "\n",
    "또한, 사용자로부터 태어난 년도를 입력받아 현재 나이를 계산하여 출력하세요."
   ]
  },
  {
   "cell_type": "code",
   "execution_count": 7,
   "metadata": {},
   "outputs": [
    {
     "name": "stdout",
     "output_type": "stream",
     "text": [
      "2024년 4월 12일 33분 22초\n",
      "현재 나이는 27살입니다\n"
     ]
    }
   ],
   "source": [
    "import datetime\n",
    "\n",
    "output = f'{now.year}년 {now.month}월 {now.day}일 {now.minute}분 {now.second}초'\n",
    "print(output)\n",
    "\n",
    "birth_year = int(input(\"태어난 년도를 입력해주세요: \"))\n",
    "age = now.year - birth_year + 1\n",
    "print(f'현재 나이는 {age}살입니다') "
   ]
  }
 ],
 "metadata": {
  "kernelspec": {
   "display_name": "condatest",
   "language": "python",
   "name": "condatest"
  },
  "language_info": {
   "codemirror_mode": {
    "name": "ipython",
    "version": 3
   },
   "file_extension": ".py",
   "mimetype": "text/x-python",
   "name": "python",
   "nbconvert_exporter": "python",
   "pygments_lexer": "ipython3",
   "version": "3.11.7"
  }
 },
 "nbformat": 4,
 "nbformat_minor": 2
}
