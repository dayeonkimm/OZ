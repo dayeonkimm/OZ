{
 "cells": [
  {
   "cell_type": "code",
   "execution_count": 76,
   "metadata": {},
   "outputs": [
    {
     "name": "stdout",
     "output_type": "stream",
     "text": [
      "Data inserted successfully\n"
     ]
    }
   ],
   "source": [
    "from pymongo import MongoClient\n",
    "\n",
    "def insert_data():\n",
    "    client = MongoClient('mongodb://localhost:27017/')\n",
    "    db = client.local  # 'local' 데이터베이스 사용\n",
    "\n",
    "    # 책 데이터 삽입\n",
    "    books = [\n",
    "        {\n",
    "            \"title\": \"Kafka on the Shore\",\n",
    "            \"author\": \"Haruki Murakami\",\n",
    "            \"year\": 2002,\n",
    "            \"genre\": \"fantasy\",\n",
    "        },\n",
    "        {\n",
    "            \"title\": \"Norwegian Wood\",\n",
    "            \"author\": \"Haruki Murakami\",\n",
    "            \"year\": 1987,\n",
    "            \"genre\": \"thriller\",\n",
    "        },\n",
    "        {\n",
    "            \"title\": \"1Q84\",\n",
    "            \"author\": \"Haruki Murakami\",\n",
    "            \"year\": 2009,\n",
    "            \"genre\": \"fantasy\",\n",
    "        },\n",
    "    ]\n",
    "    db.books.insert_many(books)\n",
    "\n",
    "    # 영화 데이터 삽입\n",
    "    movies = [\n",
    "        {\n",
    "            \"title\": \"Inception\",\n",
    "            \"director\": \"Christopher Nolan\",\n",
    "            \"year\": 2010,\n",
    "            \"rating\": 8.8,\n",
    "            \"genre\": \"fantasy\",\n",
    "        },\n",
    "        {\n",
    "            \"title\": \"Interstellar\",\n",
    "            \"director\": \"Christopher Nolan\",\n",
    "            \"year\": 2014,\n",
    "            \"rating\": 8.6,\n",
    "            \"genre\": \"fantasy\",\n",
    "        },\n",
    "        {\n",
    "            \"title\": \"The Dark Knight\",\n",
    "            \"director\": \"Christopher Nolan\",\n",
    "            \"year\": 2008,\n",
    "            \"rating\": 9.0,\n",
    "            \"genre\": \"fantasy\",\n",
    "        },\n",
    "    ]\n",
    "    db.movies.insert_many(movies)\n",
    "\n",
    "    # 사용자 행동 데이터 삽입\n",
    "    user_actions = [\n",
    "        {\"user_id\": 1, \"action\": \"click\", \"timestamp\": \"2023-04-12T08:00:00Z\"},\n",
    "        {\"user_id\": 1, \"action\": \"view\", \"timestamp\": \"2023-04-09T09:00:00Z\"},\n",
    "        {\"user_id\": 2, \"action\": \"purchase\", \"timestamp\": \"2023-04-12T10:00:00Z\"}\n",
    "    ]\n",
    "    db.user_actions.insert_many(user_actions)\n",
    "\n",
    "    print(\"Data inserted successfully\")\n",
    "    client.close()\n",
    "\n",
    "if __name__ == \"__main__\":\n",
    "    insert_data()\n"
   ]
  },
  {
   "cell_type": "code",
   "execution_count": 77,
   "metadata": {},
   "outputs": [
    {
     "name": "stdout",
     "output_type": "stream",
     "text": [
      "{'title': 'Kafka on the Shore', 'author': 'Haruki Murakami'}\n",
      "{'title': '1Q84', 'author': 'Haruki Murakami'}\n"
     ]
    }
   ],
   "source": [
    "# [문제 1: 특정 장르의 책 찾기]\n",
    "\n",
    "def find_books_by_genre(db, genre):\n",
    "    books_collection = db.books\n",
    "    query = {\"genre\": genre}\n",
    "    projection = {\"_id\": 0, \"title\": 1, \"author\": 1}\n",
    "\n",
    "    books = books_collection.find(query, projection)\n",
    "    for book in books:\n",
    "        print(book)\n",
    "\n",
    "find_books_by_genre(db, \"fantasy\")\n"
   ]
  },
  {
   "cell_type": "code",
   "execution_count": 78,
   "metadata": {},
   "outputs": [
    {
     "name": "stdout",
     "output_type": "stream",
     "text": [
      "{'_id': 'Christopher Nolan', 'avgRating': 8.799999999999999}\n"
     ]
    }
   ],
   "source": [
    "# [문제 2: 감독별 평균 영화 평점 계산]\n",
    "\n",
    "def calculate_average_ratings(db):\n",
    "    movie_collection = db.movies\n",
    "    query = [{\"$group\": {\"_id\": \"$director\", \"avgRating\": {\"$avg\": \"$rating\"}}},{\"$sort\":{\"director\":-1}}]\n",
    "\n",
    "    ratings = movie_collection.aggregate(query)\n",
    "    for rating in ratings:\n",
    "        print(rating)\n",
    "        \n",
    "calculate_average_ratings(db)"
   ]
  },
  {
   "cell_type": "code",
   "execution_count": 79,
   "metadata": {},
   "outputs": [
    {
     "name": "stdout",
     "output_type": "stream",
     "text": [
      "{'_id': ObjectId('6630a11a7d82c2bed71438d0'), 'user_id': 1, 'action': 'click', 'timestamp': '2023-04-12T08:00:00Z'}\n",
      "{'_id': ObjectId('6630a11a7d82c2bed71438d1'), 'user_id': 1, 'action': 'view', 'timestamp': '2023-04-09T09:00:00Z'}\n"
     ]
    }
   ],
   "source": [
    "# [문제 3: 특정 사용자의 최근 행동 조회]\n",
    "\n",
    "def find_user_action(db,user_id,limit):\n",
    "    action_collection = db.user_actions\n",
    "    query = {\"user_id\":user_id}\n",
    "    projection = [(\"timestamp\",-1)]\n",
    "    \n",
    "    \n",
    "    actions = action_collection.find(query).sort(projection).limit(limit)\n",
    "    for action in actions:\n",
    "        print(action)\n",
    "        \n",
    "find_user_action(db, 1, 5)"
   ]
  },
  {
   "cell_type": "code",
   "execution_count": 80,
   "metadata": {},
   "outputs": [
    {
     "name": "stdout",
     "output_type": "stream",
     "text": [
      "{'_id': 1987, 'count': 1}\n",
      "{'_id': 2002, 'count': 1}\n",
      "{'_id': 2009, 'count': 1}\n"
     ]
    }
   ],
   "source": [
    "# [문제 4: 출판 연도별 책의 수 계산]\n",
    "\n",
    "def count_num_of_books(db):\n",
    "    books_collection = db.books\n",
    "    query = [{\"$group\":{\"_id\":\"$year\",\"count\":{\"$sum\":1}}},{\"$sort\":{\"count\":-1}}]\n",
    "    \n",
    "    books = books_collection.aggregate(query)\n",
    "    for book in books:\n",
    "        print(book)\n",
    "        \n",
    "count_num_of_books(db)"
   ]
  },
  {
   "cell_type": "code",
   "execution_count": 81,
   "metadata": {},
   "outputs": [
    {
     "name": "stdout",
     "output_type": "stream",
     "text": [
      "Updated 0 documents.\n"
     ]
    }
   ],
   "source": [
    "# [문제 5: 특정 사용자의 행동 유형 업데이트]\n",
    "\n",
    "from datetime import datetime\n",
    "\n",
    "def update_user_actions_before_date(db, user_id, date, old_action, new_action):\n",
    "    actions_collection = db.user_actions\n",
    "    query = {\"user_id\": user_id, \"action\": old_action, \"timestamp\": {\"$lt\": date}}\n",
    "    update = {\"$set\": {\"action\": new_action}}\n",
    "\n",
    "    result = actions_collection.update_many(query, update)\n",
    "    print(f\"Updated {result.modified_count} documents.\")\n",
    "\n",
    "update_user_actions_before_date(db, 1, datetime(2023, 4, 10), \"view\", \"seen\")"
   ]
  }
 ],
 "metadata": {
  "kernelspec": {
   "display_name": "condatest",
   "language": "python",
   "name": "condatest"
  },
  "language_info": {
   "codemirror_mode": {
    "name": "ipython",
    "version": 3
   },
   "file_extension": ".py",
   "mimetype": "text/x-python",
   "name": "python",
   "nbconvert_exporter": "python",
   "pygments_lexer": "ipython3",
   "version": "3.11.7"
  }
 },
 "nbformat": 4,
 "nbformat_minor": 2
}
