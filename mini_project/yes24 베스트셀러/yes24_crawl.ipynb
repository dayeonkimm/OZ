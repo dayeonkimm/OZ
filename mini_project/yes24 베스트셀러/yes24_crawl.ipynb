{
 "cells": [
  {
   "cell_type": "markdown",
   "metadata": {},
   "source": [
    "### 예스 24 크롤링"
   ]
  },
  {
   "cell_type": "code",
   "execution_count": 1,
   "metadata": {},
   "outputs": [
    {
     "data": {
      "text/plain": [
       "'/Users/mac/.wdm/drivers/chromedriver/mac64/124.0.6367.60/chromedriver-mac-x64/chromedriver'"
      ]
     },
     "execution_count": 1,
     "metadata": {},
     "output_type": "execute_result"
    }
   ],
   "source": [
    "# webdriver-manager 라이브러리 불러오기\n",
    "from webdriver_manager.chrome import ChromeDriverManager\n",
    "ChromeDriverManager().install()"
   ]
  },
  {
   "cell_type": "code",
   "execution_count": 3,
   "metadata": {},
   "outputs": [],
   "source": [
    "from selenium import webdriver\n",
    "browser = webdriver.Chrome()"
   ]
  },
  {
   "cell_type": "code",
   "execution_count": 11,
   "metadata": {},
   "outputs": [],
   "source": [
    "url = \"https://www.google.com\"\n",
    "browser.get(url)"
   ]
  },
  {
   "cell_type": "code",
   "execution_count": 5,
   "metadata": {},
   "outputs": [
    {
     "data": {
      "text/plain": [
       "'대한민국'"
      ]
     },
     "execution_count": 5,
     "metadata": {},
     "output_type": "execute_result"
    }
   ],
   "source": [
    "from selenium.webdriver.common.by import By\n",
    "browser.find_element(By.CLASS_NAME, 'uU7dJb').text"
   ]
  },
  {
   "cell_type": "code",
   "execution_count": 4,
   "metadata": {},
   "outputs": [],
   "source": [
    "from selenium.webdriver.common.by import By\n",
    "\n",
    "url = \"https://www.yes24.com/Product/Category/BestSeller?categoryNumber=001&pageNumber=1&pageSize=24\"\n",
    "browser.get(url)"
   ]
  },
  {
   "cell_type": "code",
   "execution_count": 20,
   "metadata": {},
   "outputs": [
    {
     "name": "stdout",
     "output_type": "stream",
     "text": [
      "https://www.yes24.com/Product/Goods/126010792\n",
      "https://www.yes24.com/Product/Goods/124999476\n",
      "https://www.yes24.com/Product/Goods/126029503\n",
      "https://www.yes24.com/Product/Goods/125295101\n",
      "https://www.yes24.com/Product/Goods/125992096\n",
      "https://www.yes24.com/Product/Goods/125491624\n",
      "https://www.yes24.com/Product/Goods/125651056\n",
      "https://www.yes24.com/Product/Goods/126110769\n",
      "https://www.yes24.com/Product/Goods/117014613\n",
      "https://www.yes24.com/Product/Goods/125576919\n",
      "https://www.yes24.com/Product/Goods/123675187\n",
      "https://www.yes24.com/Product/Goods/122120495\n",
      "https://www.yes24.com/Product/Goods/126029190\n",
      "https://www.yes24.com/Product/Goods/125973831\n",
      "https://www.yes24.com/Product/Goods/90926731\n",
      "https://www.yes24.com/Product/Goods/123400303\n",
      "https://www.yes24.com/Product/Goods/96547408\n",
      "https://www.yes24.com/Product/Goods/126012006\n",
      "https://www.yes24.com/Product/Goods/125557465\n",
      "https://www.yes24.com/Product/Goods/123930880\n",
      "https://www.yes24.com/Product/Goods/124043812\n",
      "https://www.yes24.com/Product/Goods/125606168\n",
      "https://www.yes24.com/Product/Goods/125384202\n",
      "https://www.yes24.com/Product/Goods/125970283\n"
     ]
    }
   ],
   "source": [
    "# 1페이지의 링크 데이터 전부 수집\n",
    "### 한 개의 베스트 셀러 링크 수집\n",
    "browser.find_element(By.CLASS_NAME, 'gd_name').get_attribute('href')\n",
    "\n",
    "### 1페이지 전체의 링크 데이터\n",
    "# browser.find_elements(By.CLASS_NAME, 'gd_name') # element: 요소\n",
    "datas = browser.find_elements(By.CLASS_NAME, 'gd_name') # elements: 리스트\n",
    "\n",
    "for i in datas:\n",
    "    print(i.get_attribute('href'))\n",
    "    "
   ]
  },
  {
   "cell_type": "code",
   "execution_count": 5,
   "metadata": {},
   "outputs": [
    {
     "name": "stdout",
     "output_type": "stream",
     "text": [
      "********** 현재 1 페이지 수집 중 입니다 **********\n",
      "********** 현재 2 페이지 수집 중 입니다 **********\n",
      "********** 현재 3 페이지 수집 중 입니다 **********\n",
      "['https://www.yes24.com/Product/Goods/126010792', 'https://www.yes24.com/Product/Goods/124999476', 'https://www.yes24.com/Product/Goods/126029503', 'https://www.yes24.com/Product/Goods/125295101', 'https://www.yes24.com/Product/Goods/125992096', 'https://www.yes24.com/Product/Goods/125491624', 'https://www.yes24.com/Product/Goods/125651056', 'https://www.yes24.com/Product/Goods/126110769', 'https://www.yes24.com/Product/Goods/117014613', 'https://www.yes24.com/Product/Goods/125576919', 'https://www.yes24.com/Product/Goods/123675187', 'https://www.yes24.com/Product/Goods/122120495', 'https://www.yes24.com/Product/Goods/126029190', 'https://www.yes24.com/Product/Goods/125973831', 'https://www.yes24.com/Product/Goods/90926731', 'https://www.yes24.com/Product/Goods/123400303', 'https://www.yes24.com/Product/Goods/96547408', 'https://www.yes24.com/Product/Goods/126012006', 'https://www.yes24.com/Product/Goods/125557465', 'https://www.yes24.com/Product/Goods/123930880', 'https://www.yes24.com/Product/Goods/124043812', 'https://www.yes24.com/Product/Goods/125606168', 'https://www.yes24.com/Product/Goods/125384202', 'https://www.yes24.com/Product/Goods/125970283', 'https://www.yes24.com/Product/Goods/123930891', 'https://www.yes24.com/Product/Goods/124926484', 'https://www.yes24.com/Product/Goods/126053427', 'https://www.yes24.com/Product/Goods/124043802', 'https://www.yes24.com/Product/Goods/125752452', 'https://www.yes24.com/Product/Goods/125992327', 'https://www.yes24.com/Product/Goods/125871480', 'https://www.yes24.com/Product/Goods/124112599', 'https://www.yes24.com/Product/Goods/125757418', 'https://www.yes24.com/Product/Goods/125709308', 'https://www.yes24.com/Product/Goods/125558276', 'https://www.yes24.com/Product/Goods/8759796', 'https://www.yes24.com/Product/Goods/125905365', 'https://www.yes24.com/Product/Goods/124702623', 'https://www.yes24.com/Product/Goods/125918682', 'https://www.yes24.com/Product/Goods/125558632', 'https://www.yes24.com/Product/Goods/125912298', 'https://www.yes24.com/Product/Goods/125184439', 'https://www.yes24.com/Product/Goods/124515978', 'https://www.yes24.com/Product/Goods/82287934', 'https://www.yes24.com/Product/Goods/126011064', 'https://www.yes24.com/Product/Goods/59003542', 'https://www.yes24.com/Product/Goods/125085536', 'https://www.yes24.com/Product/Goods/90275002', 'https://www.yes24.com/Product/Goods/114853233', 'https://www.yes24.com/Product/Goods/125668307', 'https://www.yes24.com/Product/Goods/125384672', 'https://www.yes24.com/Product/Goods/104086365', 'https://www.yes24.com/Product/Goods/122090360', 'https://www.yes24.com/Product/Goods/125648423', 'https://www.yes24.com/Product/Goods/118413014', 'https://www.yes24.com/Product/Goods/125910832', 'https://www.yes24.com/Product/Goods/118579613', 'https://www.yes24.com/Product/Goods/25283908', 'https://www.yes24.com/Product/Goods/124702605', 'https://www.yes24.com/Product/Goods/124225606', 'https://www.yes24.com/Product/Goods/125542915', 'https://www.yes24.com/Product/Goods/97255028', 'https://www.yes24.com/Product/Goods/125285962', 'https://www.yes24.com/Product/Goods/125771626', 'https://www.yes24.com/Product/Goods/125794793', 'https://www.yes24.com/Product/Goods/125447851', 'https://www.yes24.com/Product/Goods/123318244', 'https://www.yes24.com/Product/Goods/126045417', 'https://www.yes24.com/Product/Goods/118569079', 'https://www.yes24.com/Product/Goods/125384743', 'https://www.yes24.com/Product/Goods/126031355', 'https://www.yes24.com/Product/Goods/124539805']\n"
     ]
    }
   ],
   "source": [
    "# 3페이지까지의 링크 데이터 전부 수집\n",
    "\n",
    "import time\n",
    "\n",
    "link_list = []\n",
    "\n",
    "for i in range(1,4):\n",
    "    print(\"*\"*10,f'현재 {i} 페이지 수집 중 입니다', \"*\"*10)\n",
    "    url = f'https://www.yes24.com/Product/Category/BestSeller?categoryNumber=001&pageNumber={i}&pageSize=24'\n",
    "    \n",
    "    browser.get(url)\n",
    "    \n",
    "    browser.find_element(By.CLASS_NAME, 'gd_name').get_attribute('href')\n",
    "\n",
    "    ### 페이지 전체의 링크 데이터\n",
    "    # browser.find_elements(By.CLASS_NAME, 'gd_name') # element: 요소\n",
    "    datas = browser.find_elements(By.CLASS_NAME, 'gd_name') # elements: 리스트\n",
    "\n",
    "    for i in datas:\n",
    "        link = i.get_attribute('href')\n",
    "        \n",
    "        link_list.append(link)\n",
    "        \n",
    "    time.sleep(3)\n",
    "    \n",
    "print(link_list)"
   ]
  },
  {
   "cell_type": "code",
   "execution_count": 8,
   "metadata": {},
   "outputs": [
    {
     "data": {
      "text/plain": [
       "72"
      ]
     },
     "execution_count": 8,
     "metadata": {},
     "output_type": "execute_result"
    }
   ],
   "source": [
    "len(link_list)"
   ]
  },
  {
   "cell_type": "code",
   "execution_count": 8,
   "metadata": {},
   "outputs": [
    {
     "data": {
      "text/plain": [
       "('던전밥 14',\n",
       " '쿠이 료코 글그림/김민재 역',\n",
       " '소미미디어',\n",
       " '2024년 05월 03일',\n",
       " '31,500',\n",
       " '예약판매',\n",
       " '42,060',\n",
       " '7,000',\n",
       " '13',\n",
       " '1')"
      ]
     },
     "execution_count": 8,
     "metadata": {},
     "output_type": "execute_result"
    }
   ],
   "source": [
    "# for link in link_list:\n",
    "#     # 상세 페이지로 이동\n",
    "#     browser.get(link)\n",
    "    \n",
    "browser.get(link_list[12])\n",
    "\n",
    "title = browser.find_element(By.CLASS_NAME, 'gd_name').text\n",
    "author = browser.find_element(By.CLASS_NAME, 'gd_auth').text\n",
    "publisher = browser.find_element(By.CLASS_NAME, 'gd_pub').text\n",
    "publishing = browser.find_element(By.CLASS_NAME, 'gd_date').text\n",
    "rating = browser.find_element(By.CLASS_NAME, 'yes_b').text\n",
    "review = browser.find_element(By.CLASS_NAME, 'txC_blue').text\n",
    "sales = browser.find_element(By.CLASS_NAME, 'gd_sellNum').text.split(\" \")[2]\n",
    "price = browser.find_element(By.CLASS_NAME, 'yes_m').text[:-1]\n",
    "ranking = browser.find_element(By.CLASS_NAME, 'gd_best').text.split(\" | \")[0].split(\" \")[2][:-1]\n",
    "ranking_weeks = browser.find_element(By.CLASS_NAME, 'gd_best').text.split(\" | \")[1].split(\" \")[2][:-1]\n",
    "\n",
    "title, author, publisher, publishing, rating, review, sales, price, ranking, ranking_weeks"
   ]
  },
  {
   "cell_type": "code",
   "execution_count": 11,
   "metadata": {},
   "outputs": [],
   "source": [
    "# 데이터 베이스 연동 후 -> 수집한 데이터를 DB에 저장 (csv)\n",
    "import pymysql\n",
    "import time\n",
    "import re\n",
    "from datetime import datetime\n",
    "\n",
    "# root 말고 다른 계정 권한 부여\n",
    "# id 2개 // read만 crud\n",
    "# 다른 sql로\n",
    "# class로 짜보기\n",
    "# .py 형태로\n",
    "conn = pymysql.connect(\n",
    "    host='localhost',\n",
    "    user='root',\n",
    "    password='oz-password',\n",
    "    db='yes24',\n",
    "    charset='utf8mb4',\n",
    "    cursorclass=pymysql.cursors.DictCursor\n",
    ")\n",
    "\n",
    "with conn.cursor() as cur:\n",
    "    \n",
    "    for link in link_list:\n",
    "        browser.get(link)\n",
    "        \n",
    "        title = browser.find_element(By.CLASS_NAME, 'gd_name').text\n",
    "        author = browser.find_element(By.CLASS_NAME, 'gd_auth').text\n",
    "        publisher = browser.find_element(By.CLASS_NAME, 'gd_pub').text\n",
    "        \n",
    "        # 2023년 12월 25일 -> 2023-12-25\n",
    "        publishing = browser.find_element(By.CLASS_NAME, 'gd_date').text\n",
    "        match = re.search(r'(\\d+)년 (\\d+)월 (\\d+)일',publishing)\n",
    "        if match:\n",
    "            year, month, day = match.groups()\n",
    "            data_obj = datetime(int(year), int(month), int(day))\n",
    "            publishing = data_obj.strftime(\"%Y-%m-%d\")\n",
    "        else:\n",
    "            publishing = \"2023-01-01\"\n",
    "    \n",
    "        try: \n",
    "            rating = browser.find_element(By.CLASS_NAME, 'yes_b').text\n",
    "            rating = float(rating.replace(',', ''))\n",
    "    \n",
    "            if rating < 0 or rating > 10:\n",
    "                rating = 0\n",
    "\n",
    "        except: \n",
    "            rating = 0\n",
    "            \n",
    "        # , 삭제\n",
    "        try: \n",
    "            review = browser.find_element(By.CLASS_NAME, 'txC_blue').text\n",
    "            review = int(review.replace(\",\",\"\"))\n",
    "        except:\n",
    "            review = 0\n",
    "    \n",
    "        sales = browser.find_element(By.CLASS_NAME, 'gd_sellNum').text.split(\" \")[2]\n",
    "        sales = int(sales.replace(\",\",\"\"))\n",
    "        \n",
    "        price = browser.find_element(By.CLASS_NAME, 'yes_m').text[:-1]\n",
    "        price = int(price.replace(\",\",\"\"))\n",
    "        \n",
    "        full_text = browser.find_element(By.CLASS_NAME, 'gd_best').text\n",
    "        parts = full_text.split(\" | \")\n",
    "        \n",
    "        if len(parts)==1:\n",
    "            ranking = 0\n",
    "            ranking_weeks = 0\n",
    "        else:\n",
    "            try:\n",
    "                ranking_part = parts[0]\n",
    "                ranking = ''.join(filter(str.isdigit, ranking_part)) #숫자만 추출\n",
    "            except:\n",
    "                ranking = 0\n",
    "                \n",
    "            try:\n",
    "                ranking_weeks_part = parts[1]\n",
    "                ranking_weeks = ''.join(filter(str.isdigit, ranking_weeks_part.split()[-1]))\n",
    "            except:\n",
    "                ranking_weeks_part = 0\n",
    "                \n",
    "        \n",
    "        sql = \"\"\"INSERT INTO Books(\n",
    "            title, author, publisher, publishing, rating, review, sales, price, ranking, ranking_weeks\n",
    "            )\n",
    "            VALUES(\n",
    "            %s, %s, %s, %s, %s, %s, %s, %s, %s, %s\n",
    "            )\n",
    "            \"\"\"\n",
    "        cur.execute(sql, (title, author, publisher, publishing, rating, review, sales, price, ranking, ranking_weeks))\n",
    "        conn.commit()\n",
    "        \n",
    "        time.sleep(2)\n",
    "        \n",
    "# 상세 페이지 이동 후 데이터 크롤링\n"
   ]
  },
  {
   "cell_type": "code",
   "execution_count": null,
   "metadata": {},
   "outputs": [],
   "source": []
  }
 ],
 "metadata": {
  "kernelspec": {
   "display_name": ".venv",
   "language": "python",
   "name": "python3"
  },
  "language_info": {
   "codemirror_mode": {
    "name": "ipython",
    "version": 3
   },
   "file_extension": ".py",
   "mimetype": "text/x-python",
   "name": "python",
   "nbconvert_exporter": "python",
   "pygments_lexer": "ipython3",
   "version": "3.11.7"
  }
 },
 "nbformat": 4,
 "nbformat_minor": 2
}
